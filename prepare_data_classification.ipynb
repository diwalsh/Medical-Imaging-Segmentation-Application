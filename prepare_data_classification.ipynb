{
 "cells": [
  {
   "cell_type": "markdown",
   "id": "a2c9b71b-99a8-486d-8602-e754e0f1fc5a",
   "metadata": {},
   "source": [
    "# Python Script: Prepare Data for Classification"
   ]
  },
  {
   "cell_type": "markdown",
   "id": "e556557b-4575-4cf4-8db5-d6b261007a13",
   "metadata": {},
   "source": [
    "```python\n",
    "prepare_data_classification.py\n",
    "```\n",
    "This script prepares the original MRI scans from the Kaggle competition titled 'UW-Madison GI Tract Image Segmentation,' which will be used to train and validate the binary classification model (ResNetClassifier).\n",
    "\n",
    "The script takes as input parameters the path of the image database and the train.csv file that includes all the information needed to generate the target masks:\n",
    "* The images are min-max normalized and saved in RGB PNG format in a specified target folder. If the image is grayscale, it is copied into each of the three channels.\n",
    "* The target masks are created from the run-length code provided in ```bash train.csv``` (column ```python segmentation```).\n",
    "* Additionally, the script allows for saving the images in a 2.5D format, where the first (R) channel is used to store the actual image 'i', the second (G) channel to store the image 'i + stride', and the third (B) channel to store the image 'i + 2*stride'.\n",
    "\n",
    "The usage sample of this application is given next:\n",
    "\n",
    "```bash\n",
    "python prepare_data_classification.py -dimension 2d -csv data/train.csv -input_dir images/train -output_dir classification_data\n",
    "```\n",
    "More information about the input parameters is provided with the help parameter as follows:\n",
    "\n",
    "```bash\n",
    "python .\\prepare_data_classification.py --help\n",
    "\n",
    "usage: prepare_data_classification.py [-h] [-dimension {2d,2.5d}] [-stride STRIDE] [-csv CSV] [-input_dir INPUT_DIR] [-output_dir OUTPUT_DIR] [-test_patients TEST_PATIENTS]\n",
    "\n",
    "options:\n",
    "-h, --help                   Show this help message and exit\n",
    "-dimension {2d,2.5d}         Choose either '2d' or '2.5d'\n",
    "-stride STRIDE               Specify the stride as an integer (default 1) for 2.5d\n",
    "-csv CSV                     Path and file name of the csv file with rle data (default 'data/train.csv')\n",
    "-input_dir INPUT_DIR         Specify the directory where the input images reside (default 'images')\n",
    "-output_dir OUTPUT_DIR       Specify the directory where the images will be stored (default 'output')\n",
    "-test_patients TEST_PATIENTS Specify the list of test images (default \"['2', '6', '7', '9', '11', '15', '16', '140', '145', '146', '147', '148', '149', '154', '156']\")\n",
    "```                "
   ]
  },
  {
   "cell_type": "markdown",
   "id": "055890bc-f706-4aea-badd-3a75941c29cd",
   "metadata": {},
   "source": [
    "# Usage Sample"
   ]
  },
  {
   "cell_type": "code",
   "execution_count": 4,
   "id": "d65f16c9-4c45-4c18-8bd8-c0d3f5c4d864",
   "metadata": {},
   "outputs": [],
   "source": [
    "!python prepare_data_classification.py -dimension 2d -csv data/train.csv -input_dir images/train -output_dir classification_data"
   ]
  }
 ],
 "metadata": {
  "kernelspec": {
   "display_name": ".venv_common",
   "language": "python",
   "name": ".venv_common"
  },
  "language_info": {
   "codemirror_mode": {
    "name": "ipython",
    "version": 3
   },
   "file_extension": ".py",
   "mimetype": "text/x-python",
   "name": "python",
   "nbconvert_exporter": "python",
   "pygments_lexer": "ipython3",
   "version": "3.11.6"
  }
 },
 "nbformat": 4,
 "nbformat_minor": 5
}
