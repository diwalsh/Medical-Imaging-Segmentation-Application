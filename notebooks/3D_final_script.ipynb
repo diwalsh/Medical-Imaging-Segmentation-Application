{
 "cells": [
  {
   "cell_type": "markdown",
   "metadata": {
    "tags": []
   },
   "source": [
    "## imports"
   ]
  },
  {
   "cell_type": "code",
   "execution_count": 2,
   "metadata": {
    "tags": []
   },
   "outputs": [],
   "source": [
    "import os\n",
    "import numpy as np\n",
    "\n",
    "from skimage import measure\n",
    "from skimage.morphology import ball\n",
    "from PIL import Image\n",
    "from scipy.ndimage import zoom, binary_closing"
   ]
  },
  {
   "cell_type": "markdown",
   "metadata": {},
   "source": [
    "## functions, etc."
   ]
  },
  {
   "cell_type": "code",
   "execution_count": 7,
   "metadata": {
    "tags": []
   },
   "outputs": [],
   "source": [
    "# Function to extract the color channels into separate 3D volumes\n",
    "def extract_organ_masks(images, organ_colors):\n",
    "    # Initialize a list of volumes for each organ color\n",
    "    organ_volumes = [np.zeros((images[0].shape[0], images[0].shape[1]), dtype=bool) for _ in organ_colors]\n",
    "    \n",
    "    for img in images:\n",
    "        for idx, color in enumerate(organ_colors):\n",
    "            # Create a mask where the image matches the specific organ color\n",
    "            mask = np.all(img == np.array(color, dtype=img.dtype), axis=-1)\n",
    "            # Stack the mask to build a 3D volume for each organ\n",
    "            organ_volumes[idx] = np.dstack((organ_volumes[idx], mask))\n",
    "    \n",
    "    return organ_volumes\n",
    "\n",
    "\n",
    "# Function to interpolate volumes\n",
    "def interpolate_volumes(volumes, scale_factor):\n",
    "    return [zoom(volume, (1, 1, scale_factor), order=3) for volume in volumes]\n",
    "\n",
    "\n",
    "# Function to apply morphological closing to volumes\n",
    "def close_volumes(volumes, size=2):\n",
    "    structure = ball(size)\n",
    "    return [binary_closing(volume, structure=structure) for volume in volumes]\n",
    "\n",
    "\n",
    "def is_valid_mesh(vertices, faces):\n",
    "    if len(vertices) == 0 or len(faces) == 0:\n",
    "        return False\n",
    "    for face in faces:\n",
    "        if len(face) != 3:\n",
    "            return False\n",
    "        for idx in face:\n",
    "            if idx < 0 or idx >= len(vertices):\n",
    "                return False\n",
    "    return True\n",
    "\n",
    "\n",
    "def save_as_obj_with_mtl(filename, organ_vertices_list, organ_faces_list, organ_colors_list):\n",
    "    obj_filename = filename[:-4] + '.obj'\n",
    "    mtl_filename = filename[:-4] + '.mtl'\n",
    "\n",
    "    with open(obj_filename, 'w') as f:\n",
    "        vertex_offset = 1  # Start indexing vertices from 1\n",
    "        for organ_idx, (vertices, faces) in enumerate(zip(organ_vertices_list, organ_faces_list), start=1):\n",
    "            if not is_valid_mesh(vertices, faces):\n",
    "                print(f\"Invalid mesh data for Organ{organ_idx}. Skipping save.\")\n",
    "                continue\n",
    "            f.write(f'g Organ{organ_idx}\\n')\n",
    "            for v in vertices:\n",
    "                f.write(f'v {v[0]} {v[2]} {v[1]}\\n')  # Swap y and z coordinates\n",
    "            f.write(f'mtllib {os.path.basename(mtl_filename)}\\n')\n",
    "            f.write(f'usemtl Organ{organ_idx}\\n')\n",
    "            adjusted_faces = [[idx + vertex_offset for idx in face[::-1]] for face in faces]  # Swap indices for y and z\n",
    "            for face in adjusted_faces:\n",
    "                if len(face) != 3:\n",
    "                    print(f\"Skipping invalid face with {len(face)} vertices.\")\n",
    "                    continue\n",
    "                f.write(f'f {\" \".join(map(str, face))}\\n')\n",
    "            vertex_offset += len(vertices)\n",
    "    \n",
    "    with open(mtl_filename, 'w') as f:\n",
    "        for organ_idx, colors in enumerate(organ_colors_list, start=1):\n",
    "            f.write(f'newmtl Organ{organ_idx}\\n')\n",
    "            f.write(f'Ka {colors[0][0]} {colors[0][1]} {colors[0][2]}\\n')  # Ambient color\n",
    "            f.write(f'Kd {colors[1][0]} {colors[1][1]} {colors[1][2]}\\n')  # Diffuse color\n",
    "            f.write(f'Ks {colors[2][0]} {colors[2][1]} {colors[2][2]}\\n')  # Specular color\n",
    "            f.write(f'Ns 200\\n')  # Higher specular exponent for increased reflectivity\n",
    "            f.write(f'illum 2\\n')  # Illumination model\n",
    "            # Add shadow-related parameters\n",
    "            f.write(f'Ni 1.0\\n')  # Optical density (index of refraction)\n",
    "            f.write(f'd 1.0\\n')    # Dissolve factor (opacity)\n",
    "        \n",
    "\n",
    "def extract_mesh_from_volumes(volumes):\n",
    "    vertices_list = []\n",
    "    faces_list = []\n",
    "    colors_list = []  # Initialize colors list\n",
    "    colors = [[.976, 0.733, 0.749],   # light pink\n",
    "              [1.0, 0.50, 0.64],     # medium pink\n",
    "              [0.72, 0.32, 0.40]]     # dark pink\n",
    "    color_index = 0  # Start with purple for the first organ\n",
    "\n",
    "    # Define shadow colors corresponding to each organ\n",
    "\n",
    "    # Calculate overall center of all organs combined\n",
    "    overall_center = np.zeros(3, dtype=np.float64)\n",
    "    total_verts_count = 0\n",
    "\n",
    "    for volume in volumes:\n",
    "        threshold = np.max(volume) * 0.5\n",
    "        volume = volume[:, :, ::-1]  # Adjust coordinate system if necessary\n",
    "        verts, _, _, _ = measure.marching_cubes(volume, threshold)\n",
    "        total_verts_count += len(verts)\n",
    "        overall_center += np.sum(verts, axis=0)\n",
    "\n",
    "    overall_center /= total_verts_count  # Compute the average to get the center\n",
    "\n",
    "    # Extract mesh for each organ and translate them relative to the overall center\n",
    "    for i, volume in enumerate(volumes):\n",
    "        threshold = np.max(volume) * 0.5\n",
    "        volume = volume[:, :, ::-1]  # Adjust coordinate system if necessary\n",
    "        verts, faces, _, _ = measure.marching_cubes(volume, threshold)\n",
    "\n",
    "        # Translate vertices relative to the overall center\n",
    "        verts -= overall_center\n",
    "\n",
    "        print(f\"Extracted mesh for organ {i+1} (Vertices: {len(verts)}, Faces: {len(faces)})\")\n",
    "\n",
    "        vertices_list.append(verts)\n",
    "        faces_list.append(faces)\n",
    "        colors_list.append([colors[i]] * len(verts))  # Assign color to vertices of the organ\n",
    "        color_index += 1\n",
    "        \n",
    "    return vertices_list, faces_list, colors_list\n",
    "\n",
    "# Function to load images from a given folder\n",
    "def load_images_from_folder(folder, prefix):\n",
    "    images = []\n",
    "    if not os.path.exists(folder):\n",
    "        print(\"The specified folder does not exist.\")\n",
    "        return images\n",
    "    for filename in sorted(os.listdir(folder)):\n",
    "        if filename.startswith(prefix) and filename.endswith('.png'):\n",
    "            img_path = os.path.join(folder, filename)\n",
    "            try:\n",
    "                with Image.open(img_path) as img:\n",
    "                    images.append(np.array(img))\n",
    "            except IOError:\n",
    "                print(f\"Failed to load {filename}.\")\n",
    "    return images\n",
    "\n",
    "\n",
    "def threed_render(images, combined_filename, organ_colors):\n",
    "    # Check if images exist\n",
    "    if images:\n",
    "        organ_volumes = extract_organ_masks(images, organ_colors)\n",
    "        organ_volumes = interpolate_volumes(organ_volumes, scale_factor=2)\n",
    "        organ_volumes = close_volumes(organ_volumes, size=2)\n",
    "        \n",
    "        vertices_list, faces_list, colors_list = extract_mesh_from_volumes(organ_volumes)\n",
    "        save_as_obj_with_mtl(combined_filename, vertices_list, faces_list, colors_list)\n",
    "        print(f\"All organs saved as {combined_filename}\")\n",
    "    else:\n",
    "        print(\"No images to process.\")\n",
    "        \n",
    "        "
   ]
  },
  {
   "cell_type": "markdown",
   "metadata": {},
   "source": [
    "## script"
   ]
  },
  {
   "cell_type": "code",
   "execution_count": 44,
   "metadata": {
    "tags": []
   },
   "outputs": [
    {
     "name": "stdout",
     "output_type": "stream",
     "text": [
      "Extracted mesh for organ 1 (Vertices: 21728, Faces: 43472)\n",
      "Extracted mesh for organ 2 (Vertices: 53234, Faces: 106520)\n",
      "Extracted mesh for organ 3 (Vertices: 36708, Faces: 73476)\n",
      "All organs saved as /Users/Tina/Desktop/obj/test.obj\n"
     ]
    }
   ],
   "source": [
    "# set folder for output and filename for export\n",
    "output_folder = '/Users/dianawalsh/Desktop'\n",
    "combined_filename = os.path.join(output_folder, 'test12.obj') # make dynamic\n",
    "\n",
    "# Set the folder where your images are stored\n",
    "image_folder = 'static/uploads/masks/'  # replace with the path to your image folder\n",
    "prefix = 'case2_day1' # make dynamic\n",
    "\n",
    "images = load_images_from_folder(image_folder, prefix)\n",
    "render(images, combined_filename)\n"
   ]
  },
  {
   "cell_type": "code",
   "execution_count": null,
   "metadata": {},
   "outputs": [],
   "source": []
  }
 ],
 "metadata": {
  "kernelspec": {
   "display_name": ".venv",
   "language": "python",
   "name": "python3"
  },
  "language_info": {
   "codemirror_mode": {
    "name": "ipython",
    "version": 3
   },
   "file_extension": ".py",
   "mimetype": "text/x-python",
   "name": "python",
   "nbconvert_exporter": "python",
   "pygments_lexer": "ipython3",
   "version": "3.11.3"
  }
 },
 "nbformat": 4,
 "nbformat_minor": 4
}
