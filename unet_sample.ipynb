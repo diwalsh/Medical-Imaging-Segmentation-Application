{
 "cells": [
  {
   "cell_type": "code",
   "execution_count": null,
   "id": "3f62c5ea-c72b-4d2b-9558-dc29569031da",
   "metadata": {},
   "outputs": [],
   "source": [
    "import torch\n",
    "import torch.optim as optim\n",
    "import torch.nn as nn\n",
    "\n",
    "# Load the pre-trained U-Net model\n",
    "model = torch.hub.load('mateuszbuda/brain-segmentation-pytorch', 'unet',\n",
    "                       in_channels=3, out_channels=1, init_features=32, pretrained=True)\n",
    "\n",
    "# Prepare your dataset and dataloaders\n",
    "train_loader = ...\n",
    "val_loader = ...\n",
    "\n",
    "# Define loss function and optimizer\n",
    "criterion = nn.BCEWithLogitsLoss()  # Binary cross-entropy loss\n",
    "optimizer = optim.Adam(model.parameters(), lr=0.001)\n",
    "\n",
    "# Training loop\n",
    "for epoch in range(num_epochs):\n",
    "    model.train()  # Set model to training mode\n",
    "    for inputs, targets in train_loader:\n",
    "        optimizer.zero_grad()  # Zero gradients\n",
    "        outputs = model(inputs)  # Forward pass\n",
    "        loss = criterion(outputs, targets)  # Compute loss\n",
    "        loss.backward()  # Backpropagation\n",
    "        optimizer.step()  # Update weights\n",
    "\n",
    "    # Validation\n",
    "    model.eval()  # Set model to evaluation mode\n",
    "    with torch.no_grad():\n",
    "        val_loss = 0.0\n",
    "        for inputs, targets in val_loader:\n",
    "            outputs = model(inputs)  # Forward pass\n",
    "            val_loss += criterion(outputs, targets).item() * inputs.size(0)\n",
    "        val_loss /= len(val_loader.dataset)\n",
    "        \n",
    "    print(f'Epoch {epoch+1}/{num_epochs}, Train Loss: {loss.item():.4f}, Val Loss: {val_loss:.4f}')\n",
    "\n",
    "# Save the trained model\n",
    "torch.save(model.state_dict(), 'unet_trained.pth')\n",
    "\n",
    "\n",
    "import torch\n",
    "import torch.nn as nn\n",
    "\n",
    "# Load the pre-trained U-Net model with 4 output channels (classes)\n",
    "model = torch.hub.load('mateuszbuda/brain-segmentation-pytorch', 'unet',\n",
    "                       in_channels=3, out_channels=4, init_features=32, pretrained=True)\n",
    "\n",
    "# Define loss function (e.g., cross-entropy loss)\n",
    "criterion = nn.CrossEntropyLoss()\n",
    "\n",
    "# Prepare input data and target labels\n",
    "input_data = ...  # Input images\n",
    "target_labels = ...  # Ground truth labels (multi-channel masks with values 0, 1, 2, 3)\n",
    "\n",
    "# Forward pass through the model\n",
    "outputs = model(input_data)\n",
    "\n",
    "# Compute the loss\n",
    "loss = criterion(outputs, target_labels)\n",
    "\n",
    "# Backpropagation and optimization (update weights)\n",
    "loss.backward()\n",
    "optimizer.step()"
   ]
  },
  {
   "cell_type": "markdown",
   "id": "db4578dc-ea7e-4ecd-a9b0-c81ef420a8af",
   "metadata": {},
   "source": [
    "https://debuggercafe.com/training-unet-from-scratch/\n",
    "\n",
    "https://docs.ultralytics.com/yolov5/tutorials/pytorch_hub_model_loading/\n",
    "\n",
    "https://github.com/usuyama/pytorch-unet\n"
   ]
  },
  {
   "cell_type": "markdown",
   "id": "5c46a03b-9615-47fd-9d6b-d71e432cdd2a",
   "metadata": {},
   "source": [
    "autoencoders:\n",
    "https://www.eecs.qmul.ac.uk/~sgg/_ECS795P_/papers/WK07-8_PyTorch_Tutorial2.html"
   ]
  },
  {
   "cell_type": "code",
   "execution_count": 2,
   "id": "2df9a1ad-1631-4b21-871a-e10671d78e97",
   "metadata": {},
   "outputs": [
    {
     "ename": "IndentationError",
     "evalue": "expected an indented block after function definition on line 7 (2235040621.py, line 11)",
     "output_type": "error",
     "traceback": [
      "\u001b[1;36m  Cell \u001b[1;32mIn[2], line 11\u001b[1;36m\u001b[0m\n\u001b[1;33m    def extract_latent_representation(autoencoder, dataloader):\u001b[0m\n\u001b[1;37m                                                               ^\u001b[0m\n\u001b[1;31mIndentationError\u001b[0m\u001b[1;31m:\u001b[0m expected an indented block after function definition on line 7\n"
     ]
    }
   ],
   "source": [
    "# 1. Pretrain an Autoencoder\n",
    "class Autoencoder(nn.Module):\n",
    "    def __init__(self):\n",
    "        super(Autoencoder, self).__init__()\n",
    "        # Define encoder and decoder architectures\n",
    "    \n",
    "    def forward(self, x):\n",
    "        # Implement forward pass\n",
    "\n",
    "# 2. Extract Latent Representations\n",
    "def extract_latent_representation(autoencoder, dataloader):\n",
    "    autoencoder.eval()\n",
    "    latent_representations = []\n",
    "    with torch.no_grad():\n",
    "        for inputs in dataloader:\n",
    "            inputs = inputs.to(device)\n",
    "            latent = autoencoder.encoder(inputs)\n",
    "            latent_representations.append(latent)\n",
    "    return torch.cat(latent_representations, dim=0)\n",
    "\n",
    "# 3. Clustering\n",
    "from sklearn.cluster import KMeans\n",
    "\n",
    "def perform_clustering(latent_representations, num_clusters):\n",
    "    kmeans = KMeans(n_clusters=num_clusters)\n",
    "    clusters = kmeans.fit_predict(latent_representations)\n",
    "    return clusters\n",
    "\n",
    "# 4. Assign Labels\n",
    "def assign_labels(clusters, num_categories):\n",
    "    # Implement method to assign labels to clusters\n",
    "\n",
    "# 5. Segmentation\n",
    "def segment_image(image, autoencoder, cluster_labels):\n",
    "    # Encode the image using the pretrained encoder\n",
    "    latent_representation = autoencoder.encoder(image)\n",
    "    # Cluster the latent representation\n",
    "    cluster = cluster_labels.predict(latent_representation)\n",
    "    # Assign labels to the clusters\n",
    "    label = assign_labels(cluster)\n",
    "    # Segment the image based on the labels\n",
    "    segmented_image = segment_image_based_on_labels(image, label)\n",
    "    return segmented_image"
   ]
  },
  {
   "cell_type": "markdown",
   "id": "cc9549e6-fc93-447f-95b4-c2b5ce6aee95",
   "metadata": {},
   "source": [
    "https://github.com/kanezaki/pytorch-unsupervised-segmentation"
   ]
  },
  {
   "cell_type": "markdown",
   "id": "6c6988a3-c586-49d0-b4f2-7de3fdbb11f5",
   "metadata": {},
   "source": [
    "https://pytorch.org/tutorials/beginner/deeplabv3_on_ios.html"
   ]
  },
  {
   "cell_type": "markdown",
   "id": "fd6c9a5c-bfb0-4906-a7cf-2135d669208e",
   "metadata": {},
   "source": [
    "UNET sample: https://pyimagesearch.com/2021/11/08/u-net-training-image-segmentation-models-in-pytorch/"
   ]
  },
  {
   "cell_type": "code",
   "execution_count": null,
   "id": "97973ca1-b9c9-482e-b40a-f4de43dd9c10",
   "metadata": {},
   "outputs": [],
   "source": []
  }
 ],
 "metadata": {
  "kernelspec": {
   "display_name": "Python 3 (ipykernel)",
   "language": "python",
   "name": "python3"
  },
  "language_info": {
   "codemirror_mode": {
    "name": "ipython",
    "version": 3
   },
   "file_extension": ".py",
   "mimetype": "text/x-python",
   "name": "python",
   "nbconvert_exporter": "python",
   "pygments_lexer": "ipython3",
   "version": "3.11.6"
  }
 },
 "nbformat": 4,
 "nbformat_minor": 5
}
